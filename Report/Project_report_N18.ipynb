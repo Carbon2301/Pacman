{
  "cells": [
    {
      "cell_type": "markdown",
      "metadata": {
        "id": "KD-qjNbq1ajA"
      },
      "source": [
        "# Báo cáo Project\n",
        "Lớp TTNT-156727 , Nhóm G18"
      ]
    },
    {
      "cell_type": "markdown",
      "metadata": {
        "id": "k5UpMxUD1ajC"
      },
      "source": [
        "# 1. Thông tin chung"
      ]
    },
    {
      "cell_type": "markdown",
      "metadata": {
        "id": "InkAfOFg1ajD"
      },
      "source": [
        "### Thành viên\n",
        "- Phạm Quốc Minh 20225743\n",
        "- Nguyễn Thành Bách 20235660\n",
        "- Trịnh Hữu An 20225593\n",
        "- Lê Bá Ngọc Hiểu 20225627"
      ]
    },
    {
      "cell_type": "markdown",
      "metadata": {
        "id": "ImPAFMAo1ajE"
      },
      "source": [
        "### Lịch thực hiện\n",
        "- W25: Đăng ký nhóm\n",
        "- W26: Đề xuất project (1/3)\n",
        "- W31: Báo cáo tiến độ giữa kỳ (5/4)\n",
        "- W37: Hoàn thành và gửi báo cáo project (17/5)\n",
        "- W38-40: Trình bày project, Q&A"
      ]
    },
    {
      "cell_type": "markdown",
      "metadata": {
        "id": "F8tJ7w1N1ajE"
      },
      "source": [
        "# 2. Đề xuất project (W26)"
      ]
    },
    {
      "cell_type": "markdown",
      "metadata": {
        "id": "DDWzy2dEDAnD"
      },
      "source": [
        "## Bài toán\n",
        "                      \n",
        "                        **:Game Pacman:** 👻                           "
      ]
    },
    {
      "cell_type": "markdown",
      "metadata": {
        "id": "V6t1eHG21ajF"
      },
      "source": [
        "![Pacman](https://media.vietnamplus.vn/images/7255a701687d11cb8c6bbc58a6c80785c531738e3787169ce34b631b27454b96eb5d7f68434f98ca1ca38a1124cee423/PacMan.jpg)\n"
      ]
    },
    {
      "cell_type": "markdown",
      "metadata": {
        "id": "FU2u9rTWF-Ap"
      },
      "source": [
        "*Trong trò chơi này PACMAN sẽ **tự động** tìm thức ăn bằng các thuật toán được cài đặt sẵn với môi trường là một mê cung được khởi tạo gồm có tường , food và có thể có các Monster truy đuổi.*"
      ]
    },
    {
      "cell_type": "markdown",
      "metadata": {
        "id": "mwRRwcUd1ajF"
      },
      "source": [
        "## Phương pháp\n",
        "⏭ *Game sẽ có 3 level khác nhau* và ta sẽ dùng các thuật toán khác nhau để giải quyết từng level\n",
        "\n",
        "\n"
      ]
    },
    {
      "cell_type": "markdown",
      "metadata": {
        "id": "DaXFlD742gI1"
      },
      "source": [
        "**Level 1**:\n",
        "\n",
        "*   Pacman thu thập thức ăn trong mê cung, không có Monster\n",
        "---\n",
        " => Dùng **BFS** để tìm min_path tới food"
      ]
    },
    {
      "cell_type": "markdown",
      "metadata": {
        "id": "YTFtNnZW1ajG"
      },
      "source": [
        "**Level 2**:\n",
        "\n",
        "*   Tầm nhìn của Pacman bị giới hạn trong phạm vi 3 ô vuông.Pacman có thể nhìn thấy 8 ô xung quanh và mở rộng phạm vi nhìn thêm 3 ô nữa.\n",
        "*   Monster di chuyển từng bước một xung quanh vị trí ban đầu. Mỗi bước của Pacman di chuyển, Monster cũng thay đổi vị trí.\n",
        "---\n",
        "=>Dùng thuật toán tìm kiếm cục bộ :**Heuristic local search** để tìm đường đi cho Pacman.\n",
        "\n",
        "\n"
      ]
    },
    {
      "cell_type": "markdown",
      "metadata": {
        "id": "YHzJPvNn49oU"
      },
      "source": [
        "**Level 3**:\n",
        "\n",
        "* Monsters sẽ truy đuổi nhằm tiêu diệt Pacman. Pacman sẽ cố gắng ăn nhiều thức ăn nhất có thể.\n",
        "* Pacman sẽ thua cuộc nếu va chạm phải Monster\n",
        "* Monsters có thể đi xuyên qua nhau.\n",
        "* Với mỗi bước Pacman di chuyển, Monsters cũng di chuyển.\n",
        "---\n",
        "=>Dùng thuật toán **Minimax** để tìm đường đi cho Pacman\\\\\n",
        "=>Dùng thuật toán **A*** để di chuyển Monster."
      ]
    },
    {
      "cell_type": "markdown",
      "metadata": {
        "id": "0CLLiU0X1ajG"
      },
      "source": [
        "## Phân công\n",
        "- Phạm Quốc Minh: Cài đặt thuật toán BFS để tìm đường đi ngắn nhất đến food trong Level 1, thiết kế cơ sở dữ liệu và cấu trúc game.\n",
        "- Nguyễn Thành Bách: Xây dựng thuật toán Heuristic Local Search để tìm đường đi, xây dựng hệ thống điều khiển Pacman.\n",
        "- Trịnh Hữu An: Cài đặt thuật toán A* giúp Monster đuổi theo Pacman trong Level 3, quản lý tiến độ dự án.\n",
        "- Lê Bá Ngọc Hiểu: Cài đặt thuật toán Minimax cho Pacman trong Level 3, thiết kế UI/UX."
      ]
    },
    {
      "cell_type": "markdown",
      "metadata": {
        "id": "3SgW9P061ajH"
      },
      "source": [
        "# 3. Tiến độ giữa kỳ (W31)"
      ]
    },
    {
      "cell_type": "markdown",
      "metadata": {
        "id": "FBgGuaQX1ajH"
      },
      "source": [
        "### Chương trình\n",
        "..."
      ]
    },
    {
      "cell_type": "markdown",
      "metadata": {
        "id": "tJqHfE3x1ajH"
      },
      "source": [
        "### Kết quả, vấn đề gặp phải\n",
        "..."
      ]
    },
    {
      "cell_type": "markdown",
      "metadata": {
        "id": "MjVJ0dob1ajH"
      },
      "source": [
        "# 4. Cập nhật kết quả cuối kỳ (W37)"
      ]
    },
    {
      "cell_type": "markdown",
      "metadata": {
        "id": "pqdbpS561ajH"
      },
      "source": [
        "### Chi tiết phương pháp, dữ liệu\n",
        "...."
      ]
    },
    {
      "cell_type": "markdown",
      "metadata": {
        "id": "Od-zdxmV1ajI"
      },
      "source": [
        "### Chương trình\n",
        "..."
      ]
    },
    {
      "cell_type": "markdown",
      "metadata": {
        "id": "9_AODF1a1ajI"
      },
      "source": [
        "### Phân tích, đánh giá kết quả\n",
        "..."
      ]
    },
    {
      "cell_type": "markdown",
      "metadata": {
        "id": "9ZHdaBla1ajI"
      },
      "source": [
        "### Cập nhật phân công, khối lượng công việc\n",
        "<!-- công việc của các thành viên, tỷ lệ đóng góp của các thành viên -->\n",
        "..."
      ]
    }
  ],
  "metadata": {
    "colab": {
      "provenance": [],
      "toc_visible": true
    },
    "kernelspec": {
      "display_name": "Python 3",
      "name": "python3"
    },
    "language_info": {
      "name": "python",
      "version": "3.12.6"
    }
  },
  "nbformat": 4,
  "nbformat_minor": 0
}
