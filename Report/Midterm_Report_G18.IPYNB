{
  "cells": [
    {
      "cell_type": "markdown",
      "metadata": {
        "id": "KD-qjNbq1ajA"
      },
      "source": [
        "# Báo cáo giữa kì Project\n",
        "Lớp TTNT-156727 , Nhóm G18"
      ]
    },
    {
      "cell_type": "markdown",
      "metadata": {
        "id": "k5UpMxUD1ajC"
      },
      "source": [
        "# 1. Thông tin chung"
      ]
    },
    {
      "cell_type": "markdown",
      "metadata": {
        "id": "InkAfOFg1ajD"
      },
      "source": [
        "### Thành viên\n",
        "- Phạm Quốc Minh 20225743\n",
        "- Nguyễn Thành Bách 20235660\n",
        "- Trịnh Hữu An 20225593\n",
        "- Lê Bá Ngọc Hiểu 20225627"
      ]
    },
    {
      "cell_type": "markdown",
      "metadata": {
        "id": "ImPAFMAo1ajE"
      },
      "source": [
        "### Lịch thực hiện\n",
        "- W25: Đăng ký nhóm\n",
        "- W26: Đề xuất project (1/3)\n",
        "- W31: Báo cáo tiến độ giữa kỳ (5/4)\n",
        "- W37: Hoàn thành và gửi báo cáo project (17/5)\n",
        "- W38-40: Trình bày project, Q&A"
      ]
    },
    {
      "cell_type": "markdown",
      "metadata": {
        "id": "F8tJ7w1N1ajE"
      },
      "source": [
        "# 2.Tiến độ giữa kì"
      ]
    },
    {
      "cell_type": "markdown",
      "metadata": {
        "id": "DDWzy2dEDAnD"
      },
      "source": [
        "## Bài toán\n",
        "                      \n",
        "                        **:Game Pacman:** 👻                           "
      ]
    },
    {
      "cell_type": "markdown",
      "metadata": {
        "id": "V6t1eHG21ajF"
      },
      "source": [
        "![Pacman](https://media.vietnamplus.vn/images/7255a701687d11cb8c6bbc58a6c80785c531738e3787169ce34b631b27454b96eb5d7f68434f98ca1ca38a1124cee423/PacMan.jpg)\n"
      ]
    },
    {
      "cell_type": "markdown",
      "metadata": {
        "id": "FU2u9rTWF-Ap"
      },
      "source": [
        "*Trong trò chơi này PACMAN sẽ **tự động** tìm thức ăn bằng các thuật toán được cài đặt sẵn với môi trường là một mê cung được khởi tạo gồm có tường , food và có thể có các Monster truy đuổi.*"
      ]
    },
    {
      "cell_type": "markdown",
      "metadata": {
        "id": "mwRRwcUd1ajF"
      },
      "source": [
        "## Phương pháp\n",
        "⏭ *Game sẽ có 4 level khác nhau* và ta sẽ dùng các thuật toán khác nhau để giải quyết từng level\n",
        "\n",
        "\n"
      ]
    },
    {
      "cell_type": "markdown",
      "metadata": {
        "id": "DaXFlD742gI1"
      },
      "source": [
        "**🧭Level 1**:\n",
        "\n",
        "*   Pacman thu thập thức ăn trong mê cung, không có Monster\n",
        "---\n",
        " => Dùng **BFS** để tìm min_path tới food"
      ]
    },
    {
      "cell_type": "markdown",
      "metadata": {
        "id": "YTFtNnZW1ajG"
      },
      "source": [
        "**🔍Level 2**:\n",
        "\n",
        "*   Tầm nhìn của Pacman bị giới hạn trong phạm vi 3 ô vuông.Pacman có thể nhìn thấy 8 ô xung quanh và mở rộng phạm vi nhìn thêm 3 ô nữa.\n",
        "*   Monster di chuyển từng bước một xung quanh vị trí ban đầu. Mỗi bước của Pacman di chuyển, Monster cũng thay đổi vị trí.\n",
        "---\n",
        "=>Dùng thuật toán tìm kiếm cục bộ :**Heuristic local search** để tìm đường đi cho Pacman.\n",
        "\n",
        "\n"
      ]
    },
    {
      "cell_type": "markdown",
      "metadata": {},
      "source": [
        "**🧠 Level 3**\n",
        "\n",
        "Trong level này, **Pacman** sử dụng thuật toán **Monte Carlo Tree Search (MCTS)** để cân nhắc nhiều khả năng và mô phỏng tương lai.  \n",
        "Trong khi đó, các con **ma** được điều khiển bởi thuật toán **A***, luôn tìm đường ngắn nhất và hiệu quả nhất để săn đuổi Pacman.  \n",
        "Một bên là chiến lược dựa trên xác suất, một bên là sự săn đuổi quyết liệt dựa trên mục tiêu.\n"
      ]
    },
    {
      "cell_type": "markdown",
      "metadata": {
        "id": "YHzJPvNn49oU"
      },
      "source": [
        "**⚖️Level 4**:\n",
        "\n",
        "* Monsters sẽ truy đuổi nhằm tiêu diệt Pacman. Pacman sẽ cố gắng ăn nhiều thức ăn nhất có thể.\n",
        "* Pacman sẽ thua cuộc nếu va chạm phải Monster\n",
        "* Monsters có thể đi xuyên qua nhau.\n",
        "* Với mỗi bước Pacman di chuyển, Monsters cũng di chuyển.\n",
        "---\n",
        "=>Dùng thuật toán **Minimax** để tìm đường đi cho Pacman \n",
        "=>Dùng thuật toán **A*** để di chuyển Monster."
      ]
    },
    {
      "cell_type": "markdown",
      "metadata": {
        "id": "0CLLiU0X1ajG"
      },
      "source": [
        "## Phân công\n",
        "- Phạm Quốc Minh: Cài đặt thuật toán BFS để tìm đường đi ngắn nhất đến food trong Level 1, thiết kế cấu trúc game.\n",
        "- Nguyễn Thành Bách: Xây dựng thuật toán Heuristic Local Search và Model-Based Monte Carlo Tree Search cho Pacman , xây dựng hệ thống điều khiển Pacman.\n",
        "- Trịnh Hữu An: Cài đặt thuật toán A* giúp Monster đuổi theo Pacman trong Level 3,thiết kế các object cho game , quản lý tiến độ dự án.\n",
        "- Lê Bá Ngọc Hiểu: Cài đặt thuật toán Minimax cho Pacman trong Level 3, thiết kế UI/UX."
      ]
    },
    {
      "cell_type": "markdown",
      "metadata": {
        "id": "FBgGuaQX1ajH"
      },
      "source": [
        "## Chương trình\n"
      ]
    },
    {
      "cell_type": "markdown",
      "metadata": {},
      "source": [
        "### BFS"
      ]
    },
    {
      "cell_type": "code",
      "execution_count": null,
      "metadata": {},
      "outputs": [],
      "source": [
        "from Utils.Utils import find_nearest_food, moving, isValid\n",
        "\n",
        "def BFS(_map, food_positions, start_row, start_col, N, M):\n",
        "    visited = [[False for _ in range(M)] for _ in range(N)]\n",
        "    trace = [[[-1, -1] for _ in range(M)] for _ in range(N)]\n",
        "\n",
        "    [food_row, food_col, index] = find_nearest_food(food_positions, start_row, start_col)\n",
        "\n",
        "    if food_row == -1:\n",
        "        return []\n",
        "    \n",
        "    lt = []\n",
        "    chk = False\n",
        "    visited[start_row][start_col] = True\n",
        "    lt.append([start_row, start_col])\n",
        "    while len(lt) > 0:\n",
        "        [row, col] = lt.pop(0)\n",
        "\n",
        "        if row == food_row and col == food_col:\n",
        "            chk = True\n",
        "            break\n",
        "\n",
        "        for i in range(4):\n",
        "            new_row = row + moving[i][0]\n",
        "            new_col = col + moving[i][1]\n",
        "            if isValid(_map, new_row, new_col, N, M) and not visited[new_row][new_col]:\n",
        "                visited[new_row][new_col] = True\n",
        "                trace[new_row][new_col] = [row, col]\n",
        "                lt.append([new_row, new_col]) \n",
        "\n",
        "    if not chk:\n",
        "        food_positions.pop(index)\n",
        "        return BFS(_map, food_positions, start_row, start_col, N, M)\n",
        "    \n",
        "    result = [[food_row, food_col]]\n",
        "    [row, col] = trace[food_row][food_col]\n",
        "    while row != -1:\n",
        "        result.insert(0, [row, col])\n",
        "        [row, col] = trace[row][col]\n",
        "\n",
        "    return result"
      ]
    },
    {
      "cell_type": "markdown",
      "metadata": {},
      "source": [
        "### Local Search"
      ]
    },
    {
      "cell_type": "code",
      "execution_count": null,
      "metadata": {},
      "outputs": [],
      "source": [
        "from Utils.Utils import moving,isWall\n",
        "from constants import FOOD,MONSTER, WALL\n",
        "\n",
        "def update_cost(_map, pos, current_pos, N, M, depth, visited, object_type, cost):\n",
        "    \"\"\"Cập nhật điểm số cho các ô dựa trên loại đối tượng và khoảng cách\"\"\"\n",
        "    start_row, start_col = pos\n",
        "    current_row, current_col = current_pos\n",
        "    visited.append((current_row, current_col))\n",
        "\n",
        "    if depth < 0 or pos == current_pos:\n",
        "        return\n",
        "\n",
        "    # Tính điểm dựa vào loại đối tượng và khoảng cách\n",
        "    point = 0\n",
        "    if object_type == FOOD:\n",
        "        if depth == 2 :\n",
        "            point = 35\n",
        "        elif depth == 1 :\n",
        "            point =10\n",
        "        else:\n",
        "            point =5\n",
        "\n",
        "    if object_type == MONSTER:\n",
        "        point = float(\"-inf\") if depth > 0 else -100\n",
        "\n",
        "    cost[current_row][current_col] += point\n",
        "\n",
        "    # Lan truyền ảnh hưởng đến các ô lân cận\n",
        "    for d_r, d_c in moving:\n",
        "        new_row, new_col = current_row + d_r, current_col + d_c\n",
        "        if isWall(_map, new_row, new_col, N, M) and (new_row, new_col) not in visited:\n",
        "            update_cost(_map, pos, (new_row, new_col), N, M, depth - 1, visited.copy(), object_type, cost)\n",
        "\n",
        "\n",
        "def scan_surroundings(_map, pos, current_pos, N, M, depth, visited, cost, visited_penalty):\n",
        "    \"\"\"Quét xung quanh để tìm thức ăn và quái vật, cập nhật điểm số\"\"\"\n",
        "    start_row, start_col = pos\n",
        "    current_row, current_col = current_pos\n",
        "    visited.append((current_row, current_col))\n",
        "\n",
        "    if depth <= 0:\n",
        "        return\n",
        "\n",
        "    # Khám phá các hướng có thể đi\n",
        "    for d_r, d_c in moving:\n",
        "        new_row, new_col = current_row + d_r, current_col + d_c\n",
        "        if isWall(_map, new_row, new_col, N, M) and (new_row, new_col) not in visited:\n",
        "            # Nếu gặp thức ăn hoặc quái vật, lan truyền ảnh hưởng\n",
        "            object_pos = (new_row, new_col)\n",
        "            if _map[new_row][new_col] == FOOD:\n",
        "                update_cost(_map, pos, object_pos, N, M, 2, [], FOOD, cost)\n",
        "            elif _map[new_row][new_col] == MONSTER:\n",
        "                update_cost(_map, pos, object_pos, N, M, 2, [], MONSTER, cost)\n",
        "\n",
        "            # Tiếp tục khám phá sâu hơn\n",
        "            scan_surroundings(_map, pos, object_pos, N, M, depth - 1, visited.copy(), cost, visited_penalty)\n",
        "\n",
        "    # Trừ điểm các ô đã đi qua trước đó\n",
        "    cost[current_row][current_col] -= visited_penalty[current_row][current_col]\n",
        "\n",
        "\n",
        "def local_search(_map, start_row, start_col, N, M, visited_penalty):\n",
        "    \"\"\"Tìm bước đi tiếp theo tốt nhất cho Pacman\"\"\"\n",
        "    cost = [[0 for _ in range(M)] for _ in range(N)]\n",
        "    visited = []\n",
        "\n",
        "    # Quét và đánh giá các ô xung quanh\n",
        "    scan_surroundings(_map, (start_row, start_col), (start_row, start_col), N, M, 3, visited, cost, visited_penalty)\n",
        "\n",
        "    # Tìm ô kề có điểm cao nhất\n",
        "    max_score = float(\"-inf\")\n",
        "    best_move = []\n",
        "\n",
        "    for d_r, d_c in DDX:\n",
        "        new_row, new_col = start_row + d_r, start_col + d_c\n",
        "        if _map[new_row][new_col] != WALL and cost[new_row][new_col] > max_score:\n",
        "            max_score = cost[new_row][new_col]\n",
        "            best_move = [new_row, new_col]\n",
        "\n",
        "    return best_move"
      ]
    },
    {
      "cell_type": "markdown",
      "metadata": {},
      "source": [
        "### Model-Based Monte Carlo Tree Search "
      ]
    },
    {
      "cell_type": "code",
      "execution_count": null,
      "metadata": {},
      "outputs": [],
      "source": [
        "from Utils.utils import *\n",
        "import math\n",
        "import random\n",
        "\n",
        "\n",
        "class Node:\n",
        "    def __init__(self, prev, action):\n",
        "        self.prev = prev\n",
        "        self.prevaction = action\n",
        "        self.childList = []\n",
        "        self.visitnumber = 0\n",
        "        self.score = 0\n",
        "        self.expanded = False\n",
        "\n",
        "    def createChild(self, action):\n",
        "        childNode = Node(self, action)\n",
        "        self.childList.append(childNode)\n",
        "        return childNode\n",
        "\n",
        "\n",
        "def gameEvaluation(rootState, currentState):\n",
        "    # Đánh giá trạng thái game\n",
        "    # Trả về điểm số - có thể cần điều chỉnh dựa vào cách đánh giá trạng thái của bạn\n",
        "    if currentState.isWin():\n",
        "        return 1000\n",
        "    elif currentState.isLose():\n",
        "        return -1000\n",
        "    else:\n",
        "        # Đánh giá dựa trên điểm số, khoảng cách đến thức ăn, v.v.\n",
        "        return currentState.getScore() - rootState.getScore()\n",
        "\n",
        "\n",
        "class GameState:\n",
        "    def __init__(self, _map, food_Position, pacman_row, pacman_col, N, M, Score=0):\n",
        "        self.map = _map.copy()\n",
        "        self.food_Position = food_Position.copy()\n",
        "        self.pacman_row = pacman_row\n",
        "        self.pacman_col = pacman_col\n",
        "        self.N = N\n",
        "        self.M = M\n",
        "        self.Score = Score\n",
        "\n",
        "    def getLegalPacmanActions(self):\n",
        "        # Trả về danh sách các hành động hợp lệ\n",
        "        actions = []\n",
        "        directions = [(0, -1), (0, 1), (-1, 0), (1, 0)]  # left, right, up, down\n",
        "        action_names = [\"LEFT\", \"RIGHT\", \"UP\", \"DOWN\"]\n",
        "\n",
        "        for i in range(4):\n",
        "            new_row = self.pacman_row + directions[i][0]\n",
        "            new_col = self.pacman_col + directions[i][1]\n",
        "\n",
        "            if 0 <= new_row < self.N and 0 <= new_col < self.M and self.map[new_row][\n",
        "                new_col] != 1:  # Nếu không phải là tường\n",
        "                actions.append(action_names[i])\n",
        "\n",
        "        return actions\n",
        "\n",
        "    def generatePacmanSuccessor(self, action):\n",
        "        # Tạo trạng thái mới sau khi thực hiện hành động\n",
        "        new_row, new_col = self.pacman_row, self.pacman_col\n",
        "\n",
        "        if action == \"LEFT\":\n",
        "            new_col -= 1\n",
        "        elif action == \"RIGHT\":\n",
        "            new_col += 1\n",
        "        elif action == \"UP\":\n",
        "            new_row -= 1\n",
        "        elif action == \"DOWN\":\n",
        "            new_row += 1\n",
        "\n",
        "        # Kiểm tra nếu là vị trí hợp lệ\n",
        "        if 0 <= new_row < self.N and 0 <= new_col < self.M and self.map[new_row][new_col] != 1:\n",
        "            new_state = GameState(self.map, self.food_Position.copy(), new_row, new_col, self.N, self.M, self.Score)\n",
        "\n",
        "            # Kiểm tra nếu ăn được thức ăn\n",
        "            food_found = False\n",
        "            for i, pos in enumerate(self.food_Position):\n",
        "                if pos[0] == new_row and pos[1] == new_col:\n",
        "                    new_state.food_Position.pop(i)\n",
        "                    new_state.Score += 10  # Điểm cho việc ăn thức ăn\n",
        "                    food_found = True\n",
        "                    break\n",
        "\n",
        "            return new_state\n",
        "\n",
        "        return None\n",
        "\n",
        "    def isWin(self):\n",
        "        # Thắng nếu ăn hết thức ăn\n",
        "        return len(self.food_Position) == 0\n",
        "\n",
        "    def isLose(self):\n",
        "        # Thua nếu bị ma bắt (cần triển khai logic phát hiện ma)\n",
        "        # Đơn giản hóa: giả sử không có ma, không bao giờ thua\n",
        "        return False\n",
        "\n",
        "    def getScore(self):\n",
        "        return self.Score\n",
        "\n",
        "\n",
        "def backUp(node, score):\n",
        "    while node.prev is not None:\n",
        "        node.visitnumber += 1\n",
        "        node.score += score\n",
        "        node = node.prev\n",
        "    node.visitnumber += 1  # Cập nhật cho nút gốc\n",
        "\n",
        "\n",
        "def defaultPolicy(node, rootState):\n",
        "    # Mô phỏng trò chơi từ trạng thái hiện tại\n",
        "    nodeSet = []\n",
        "    tempNode = node\n",
        "\n",
        "    while tempNode.prev is not None:\n",
        "        nodeSet.append(tempNode)\n",
        "        tempNode = tempNode.prev\n",
        "\n",
        "    nodeSet.reverse()\n",
        "    tempState = rootState\n",
        "\n",
        "    # Tái tạo trạng thái hiện tại\n",
        "    for i in nodeSet:\n",
        "        prevState = tempState\n",
        "        tempState = tempState.generatePacmanSuccessor(i.prevaction)\n",
        "        if tempState is None:\n",
        "            backUp(i, gameEvaluation(rootState, prevState))\n",
        "            return None\n",
        "        if tempState.isWin():\n",
        "            backUp(i, gameEvaluation(rootState, tempState))\n",
        "            return None\n",
        "        if tempState.isLose():\n",
        "            backUp(i, gameEvaluation(rootState, tempState))\n",
        "            return None\n",
        "\n",
        "    # Mô phỏng một số bước ngẫu nhiên\n",
        "    for j in range(5):  # Mô phỏng 5 bước\n",
        "        if not (tempState.isWin() or tempState.isLose()):\n",
        "            legal = tempState.getLegalPacmanActions()\n",
        "            if not legal:\n",
        "                break\n",
        "            prevState = tempState\n",
        "            tempState = tempState.generatePacmanSuccessor(random.choice(legal))\n",
        "            if tempState is None:\n",
        "                return None\n",
        "        else:\n",
        "            break\n",
        "\n",
        "    return gameEvaluation(rootState, tempState)\n",
        "\n",
        "\n",
        "def bestChild(node, exploration_weight=1.0):\n",
        "    curr_max = -float('inf')\n",
        "    best_children = []\n",
        "\n",
        "    for child in node.childList:\n",
        "        if child.visitnumber > 0:  # Tránh chia cho 0\n",
        "            # UCB1 formula\n",
        "            exploitation = child.score / child.visitnumber\n",
        "            exploration = exploration_weight * math.sqrt((2 * math.log(node.visitnumber)) / child.visitnumber)\n",
        "            value = exploitation + exploration\n",
        "\n",
        "            if value > curr_max:\n",
        "                curr_max = value\n",
        "                best_children = [child]\n",
        "            elif value == curr_max:\n",
        "                best_children.append(child)\n",
        "\n",
        "    if best_children:\n",
        "        return random.choice(best_children)\n",
        "    return None\n",
        "\n",
        "\n",
        "def expansion(node, rootState):\n",
        "    # Mở rộng node bằng cách thêm một node con mới\n",
        "    nodeSet = []\n",
        "    action_list = []\n",
        "    tempNode = node\n",
        "\n",
        "    while tempNode.prev is not None:\n",
        "        nodeSet.append(tempNode)\n",
        "        tempNode = tempNode.prev\n",
        "\n",
        "    nodeSet.reverse()\n",
        "    tempState = rootState\n",
        "\n",
        "    # Tái tạo trạng thái hiện tại\n",
        "    for i in nodeSet:\n",
        "        prevState = tempState\n",
        "        tempState = tempState.generatePacmanSuccessor(i.prevaction)\n",
        "        if tempState is None:\n",
        "            backUp(i, gameEvaluation(rootState, prevState))\n",
        "            return None\n",
        "        if tempState.isWin():\n",
        "            backUp(i, gameEvaluation(rootState, tempState))\n",
        "            return None\n",
        "        if tempState.isLose():\n",
        "            backUp(i, gameEvaluation(rootState, tempState))\n",
        "            return None\n",
        "\n",
        "    # Lấy danh sách hành động đã được thử\n",
        "    for child in node.childList:\n",
        "        action_list.append(child.prevaction)\n",
        "\n",
        "    # Thêm một hành động mới\n",
        "    legal_actions = tempState.getLegalPacmanActions()\n",
        "    for action in legal_actions:\n",
        "        if action not in action_list:\n",
        "            child_node = node.createChild(action)\n",
        "\n",
        "            if len(node.childList) == len(legal_actions):\n",
        "                node.expanded = True\n",
        "\n",
        "            return child_node\n",
        "\n",
        "    # Nếu tất cả hành động đã được thử\n",
        "    node.expanded = True\n",
        "    return None\n",
        "\n",
        "\n",
        "def treePolicy(root_node, root_state):\n",
        "    node = root_node\n",
        "\n",
        "    while True:\n",
        "        if not node.expanded:\n",
        "            return expansion(node, root_state)\n",
        "        else:\n",
        "            next_node = bestChild(node)\n",
        "            if next_node is None:\n",
        "                return node\n",
        "            node = next_node\n",
        "\n",
        "\n",
        "def MCTS(map, food_Position, start_row, start_col, N, M, iterations=100):\n",
        "    # Khởi tạo trạng thái gốc\n",
        "    root_state = GameState(map, food_Position, start_row, start_col, N, M)\n",
        "    root_node = Node(None, None)\n",
        "    root_node.visitnumber = 1  # Để tránh chia cho 0 trong UCB1\n",
        "\n",
        "    # Chạy thuật toán MCTS\n",
        "    for _ in range(iterations):\n",
        "        expanded_node = treePolicy(root_node, root_state)\n",
        "        if expanded_node is None:\n",
        "            continue\n",
        "\n",
        "        score = defaultPolicy(expanded_node, root_state)\n",
        "        if score is not None:\n",
        "            backUp(expanded_node, score)\n",
        "\n",
        "    # Chọn hành động tốt nhất\n",
        "    best_actions = []\n",
        "    max_visits = -1\n",
        "\n",
        "    for child in root_node.childList:\n",
        "        if child.visitnumber > max_visits:\n",
        "            max_visits = child.visitnumber\n",
        "            best_actions = [child.prevaction]\n",
        "        elif child.visitnumber == max_visits:\n",
        "            best_actions.append(child.prevaction)\n",
        "\n",
        "    if not best_actions:\n",
        "        # Nếu không có hành động nào, chọn một hành động hợp lệ ngẫu nhiên\n",
        "        legal_actions = root_state.getLegalPacmanActions()\n",
        "        if legal_actions:\n",
        "            return random.choice(legal_actions)\n",
        "        return None\n",
        "\n",
        "    # Trả về hành động tốt nhất\n",
        "    return best_actions[random.randint(0, len(best_actions) - 1)]\n"
      ]
    },
    {
      "cell_type": "markdown",
      "metadata": {
        "id": "tJqHfE3x1ajH"
      },
      "source": [
        "## Vấn đề gặp phải\n",
        "\n",
        "- **Chưa thể hoàn thiện kịp phần UI/UX** để demo cho giữa kỳ.\n",
        "- **Chưa hoàn thiện thuật toán A*** để đảm bảo tính hiệu quả và tối ưu trong việc tìm đường cho các con ma.\n",
        "- **Chưa tích hợp đầy đủ các thuật toán vào hệ thống**: Các thuật toán như MCTS và A* chưa được kết nối hoàn chỉnh với gameplay.\n",
        "- **Chưa hoàn thiện phần tương tác người dùng**: Các điều khiển hoặc thông báo chưa được làm rõ ràng, gây khó khăn cho người chơi trong việc theo dõi tiến trình.\n"
      ]
    },
    {
      "cell_type": "markdown",
      "metadata": {},
      "source": []
    }
  ],
  "metadata": {
    "colab": {
      "provenance": [],
      "toc_visible": true
    },
    "kernelspec": {
      "display_name": "Python 3",
      "name": "python3"
    },
    "language_info": {
      "codemirror_mode": {
        "name": "ipython",
        "version": 3
      },
      "file_extension": ".py",
      "mimetype": "text/x-python",
      "name": "python",
      "nbconvert_exporter": "python",
      "pygments_lexer": "ipython3",
      "version": "3.13.2"
    }
  },
  "nbformat": 4,
  "nbformat_minor": 0
}
